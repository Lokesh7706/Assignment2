{
  "nbformat": 4,
  "nbformat_minor": 0,
  "metadata": {
    "colab": {
      "provenance": []
    },
    "kernelspec": {
      "name": "python3",
      "display_name": "Python 3"
    },
    "language_info": {
      "name": "python"
    }
  },
  "cells": [
    {
      "cell_type": "code",
      "execution_count": null,
      "metadata": {
        "id": "_fxdx1Vc6Y64"
      },
      "outputs": [],
      "source": []
    },
    {
      "cell_type": "markdown",
      "source": [],
      "metadata": {
        "id": "33IIvt946ctF"
      }
    },
    {
      "cell_type": "markdown",
      "source": [
        "Create a class Employee and then do the following\n",
        "• Create a data member to count the number of Employees\n",
        "• Create a constructor to initialize name, family, salary, department\n",
        "• Create a function to average salary\n",
        "• Create a Fulltime Employee class and it should inherit the properties of Employee class\n",
        "• Create the instances of Fulltime Employee class and Employee class and call their member functions"
      ],
      "metadata": {
        "id": "jIcSauLHPiKc"
      }
    },
    {
      "cell_type": "code",
      "source": [],
      "metadata": {
        "id": "0vhgHTug6l_Y"
      },
      "execution_count": null,
      "outputs": []
    },
    {
      "cell_type": "code",
      "source": [
        "class Employee:\n",
        "    # Class variables to keep track of total employees and total salary\n",
        "    employee_count = 0\n",
        "    total_salary = 0\n",
        "\n",
        "    def __init__(self, name, family, salary, department):\n",
        "        self.name = name\n",
        "        self.family = family\n",
        "        self.salary = salary\n",
        "        self.department = department\n",
        "\n",
        "        # Update class variables\n",
        "        Employee.employee_count += 1\n",
        "        Employee.total_salary += salary\n",
        "\n",
        "    @classmethod\n",
        "    def average_salary(cls):\n",
        "        return cls.total_salary / cls.employee_count if cls.employee_count > 0 else 0\n",
        "\n",
        "    def display_info(self):\n",
        "        return f\"Name: {self.name}, Family: {self.family}, Salary: {self.salary}, Department: {self.department}\"\n",
        "\n",
        "\n",
        "class FulltimeEmployee(Employee):\n",
        "    def __init__(self, name, family, salary, department):\n",
        "        Employee.__init__(self, name, family, salary, department)\n",
        "\n",
        "\n",
        "# Create instances of FulltimeEmployee and Employee classes\n",
        "employee1 = FulltimeEmployee(\"Lokesh\", \"Cherukula\", 80000, \"IT\")\n",
        "employee2 = FulltimeEmployee(\"Goutham\", \"Kolli\", 75000, \"Finance\")\n",
        "employee3 = Employee(\"Ramesh\", \"kumar\", 50000, \"Sales\")\n",
        "employee4 = Employee(\"mani\", \"prakash\", 60000, \"HR\")\n",
        "\n",
        "# Display information of employees\n",
        "print(employee1.display_info())\n",
        "print(employee2.display_info())\n",
        "print(employee3.display_info())\n",
        "print(employee4.display_info())\n",
        "\n",
        "# Calculate and print average salary and total employee count\n",
        "print(f\"\\nAverage Salary: {int(Employee.average_salary())}\")\n",
        "print(f\"Total Employees: {Employee.employee_count}\")\n"
      ],
      "metadata": {
        "id": "XVnl2SZXLXd_",
        "outputId": "cc2e0976-c9ba-4ee7-d164-894a4fd90a9e",
        "colab": {
          "base_uri": "https://localhost:8080/"
        }
      },
      "execution_count": 1,
      "outputs": [
        {
          "output_type": "stream",
          "name": "stdout",
          "text": [
            "Name: Lokesh, Family: Cherukula, Salary: 80000, Department: IT\n",
            "Name: Goutham, Family: Kolli, Salary: 75000, Department: Finance\n",
            "Name: Ramesh, Family: kumar, Salary: 50000, Department: Sales\n",
            "Name: mani, Family: prakash, Salary: 60000, Department: HR\n",
            "\n",
            "Average Salary: 66250\n",
            "Total Employees: 4\n"
          ]
        }
      ]
    },
    {
      "cell_type": "markdown",
      "source": [],
      "metadata": {
        "id": "Y-QpDEm26ss3"
      }
    },
    {
      "cell_type": "markdown",
      "source": [
        "Using NumPy create random vector of size 20 having only float in the range 1-20.\n",
        "Then reshape the array to 4 by 5\n",
        "Then replace the max in each row by 0 (axis=1)\n",
        "(you can NOT implement it via for loop)"
      ],
      "metadata": {
        "id": "KVNJ-EKU1Xp_"
      }
    },
    {
      "cell_type": "code",
      "source": [],
      "metadata": {
        "id": "d9IMlhXo7ERL"
      },
      "execution_count": null,
      "outputs": []
    },
    {
      "cell_type": "code",
      "source": [
        "import numpy as np\n",
        "\n",
        "# Step 1: Create a random vector of size 20 with floats in the range 1-20\n",
        "random_vector = np.random.uniform(1, 20, 20)\n",
        "\n",
        "# Step 2: Reshape the array to 4 by 5\n",
        "reshaped_array = random_vector.reshape(4, 5)\n",
        "\n",
        "# Step 3: Replace the maximum value in each row by 0 (without using a loop)\n",
        "# Get the indices of the maximum values in each row\n",
        "max_indices = np.argmax(reshaped_array, axis=1)\n",
        "\n",
        "# Create a copy of the array to modify\n",
        "modified_array = reshaped_array.copy()\n",
        "\n",
        "# Use advanced indexing to set the max values to 0\n",
        "modified_array[np.arange(modified_array.shape[0]), max_indices] = 0\n",
        "\n",
        "print(\"Original Reshaped Array:\\n\", reshaped_array)\n",
        "print(\"\\nModified Array with max in each row replaced by 0:\\n\", modified_array)\n"
      ],
      "metadata": {
        "id": "UDTc0qMPQ3TI",
        "outputId": "3c2b0f1a-f9d5-41f4-e0ad-a4671f28c3cb",
        "colab": {
          "base_uri": "https://localhost:8080/"
        }
      },
      "execution_count": 2,
      "outputs": [
        {
          "output_type": "stream",
          "name": "stdout",
          "text": [
            "Original Reshaped Array:\n",
            " [[13.52835226  7.97655626 11.57175011 19.63017431 11.24044015]\n",
            " [15.90413068  2.06920907  6.14468123 14.32126463  4.92871866]\n",
            " [ 1.38144013 17.05893276  4.49408429 17.93902159 14.2999777 ]\n",
            " [ 6.90557567 14.81419518 16.7014991  10.94370134  8.09625197]]\n",
            "\n",
            "Modified Array with max in each row replaced by 0:\n",
            " [[13.52835226  7.97655626 11.57175011  0.         11.24044015]\n",
            " [ 0.          2.06920907  6.14468123 14.32126463  4.92871866]\n",
            " [ 1.38144013 17.05893276  4.49408429  0.         14.2999777 ]\n",
            " [ 6.90557567 14.81419518  0.         10.94370134  8.09625197]]\n"
          ]
        }
      ]
    }
  ]
}